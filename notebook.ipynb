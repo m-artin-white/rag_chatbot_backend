{
 "cells": [
  {
   "cell_type": "code",
   "execution_count": null,
   "metadata": {},
   "outputs": [],
   "source": [
    "from rag_assistant import RAGAssistant\n",
    "from clients.az_oai_client import AzureOpenAIClient\n",
    "from clients.az_search_client import AzureSearchClient\n",
    "from clients.cosmos_client import CosmosDBClient\n",
    "\n",
    "cosmos_client = CosmosDBClient()\n",
    "az_search_client = AzureSearchClient()\n",
    "az_oai_client = AzureOpenAIClient()\n",
    "rag_assistant = RAGAssistant(\n",
    "    vector_db_client=az_search_client,\n",
    "    az_oai_client=az_oai_client,\n",
    "    cosmos_client=cosmos_client,\n",
    ")\n",
    "rag_assistant.generate_response(query=\"Who are you?\")"
   ]
  },
  {
   "cell_type": "code",
   "execution_count": null,
   "metadata": {},
   "outputs": [],
   "source": [
    "rag_assistant.generate_response(query=\"I'm having trouble with this server: abc-123. Can you please use the documents in Azure AI Search to help me troubleshoot this issue?\")"
   ]
  },
  {
   "cell_type": "code",
   "execution_count": null,
   "metadata": {},
   "outputs": [],
   "source": [
    "rag_assistant.generate_response(query=\"Who are you?\")"
   ]
  }
 ],
 "metadata": {
  "kernelspec": {
   "display_name": ".venv",
   "language": "python",
   "name": "python3"
  },
  "language_info": {
   "name": "python",
   "version": "3.11.6"
  }
 },
 "nbformat": 4,
 "nbformat_minor": 2
}
